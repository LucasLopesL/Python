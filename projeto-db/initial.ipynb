{
 "cells": [
  {
   "cell_type": "code",
   "execution_count": null,
   "metadata": {},
   "outputs": [],
   "source": [
    "#Passo 1 - Importar base de dados\n",
    "import pandas as pd\n",
    "\n",
    "tabela = pd.read_csv(\"cancelamentos.csv\")\n",
    "\n",
    "#Passo 02 - Visualizar a base de dados\n",
    "tabela = tabela.drop(collums= [\"CustomerID\", \"idade\"])\n",
    "display(tabela)\n",
    "\n",
    "#Passo 03 - Corrigir cagadas na base de dados\n",
    "display(tabela.info())\n",
    "\n",
    "#Valores vazios\n",
    "tabela = tabela.dropna()\n",
    "\n",
    "#Passo 4 - Análise inicial dos cancelamentos\n",
    "\n",
    "#Quantas pessoas cancelaram e quantas não\n",
    "display(tabela[\"cancelou\"].values_counts)\n",
    "#Em percentual\n",
    "display(tabela[\"cancelou\"].values_counts(normalize=True))\n",
    "\n",
    "#Passo 5 - Análise das causas de cancelamento\n",
    "import plotly.express as px\n",
    "for coluna in tabela.collums:\n",
    "    grafico = px.histogram(tabela, x=coluna, color=\"cancelou\", color_discrete_map=\"greens\")\n",
    "    grafico.show()\n",
    "\n",
    "#Passo 6 - Conclusões sobre os dados\n",
    "    \n",
    "#Passo 7 - Mostar resultados com base mas conclusões\n",
    "\n",
    "tabela[\"duracao_contrato\"]!= \"Monthly\"\n",
    "\n",
    "display(tabela[\"cancelou\"].values_counts)\n",
    "#Em percentual\n",
    "display(tabela[\"cancelou\"].values_counts(normalize=True))"
   ]
  }
 ],
 "metadata": {
  "language_info": {
   "name": "python"
  }
 },
 "nbformat": 4,
 "nbformat_minor": 2
}
