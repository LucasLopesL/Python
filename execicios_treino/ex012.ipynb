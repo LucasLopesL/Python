{
 "cells": [
  {
   "cell_type": "markdown",
   "metadata": {},
   "source": [
    "### Exercício 1\n",
    "Crie um sistema de consulta de preços\n",
    "Seu sistema deve:\n",
    "- Pedir para o usuário o nome de um produto\n",
    "- Caso o produto exista na lista de produtos, o programa deve retornar o preço do produto como resposta\n",
    "       - Ex: O produto celular custa R$1500\n",
    "- Caso o produto não exista na lista de produtos, o programa deve printar uma mensagem para o usuário tentar novamente\n"
   ]
  },
  {
   "cell_type": "code",
   "execution_count": 9,
   "metadata": {},
   "outputs": [
    {
     "name": "stdout",
     "output_type": "stream",
     "text": [
      "O produto c não existe. Tente novamente!\n",
      "Fim do Programa\n"
     ]
    }
   ],
   "source": [
    "precos = {\"celular\": 1500, \"camera\": 1000, \"fone de ouvido\": 800, \"monitor\": 2000}\n",
    "produto = str(input('Digite o nome do produto: ')).casefold()\n",
    "\n",
    "if produto in precos:\n",
    "    print(f'O produto {produto} custa {precos[produto]}')\n",
    "else:\n",
    "    print(f'O produto {produto} não existe. Tente novamente!')\n",
    "print('Fim do Programa')\n",
    "\n"
   ]
  },
  {
   "cell_type": "markdown",
   "metadata": {},
   "source": [
    "\n",
    "### Exercício 2\n",
    "Agora edite o programa anterior para fazer com que, caso não exista o produto, o programa pergunte se o usuário quer cadastrar o produto\n",
    "<br>Se ele responder sim, o programa deve pedir o nome do produto e o preco do produto e cadastrar no dicionário de preços\n",
    "<br>Em seguida do cadastro bem sucedido, o programa deve printar o dicionário de precos atualizado\n"
   ]
  },
  {
   "cell_type": "code",
   "execution_count": 10,
   "metadata": {},
   "outputs": [
    {
     "name": "stdout",
     "output_type": "stream",
     "text": [
      "O produto celular custa 1500\n",
      "{'celular': 1500, 'camera': 1000, 'fone de ouvido': 800, 'monitor': 2000}\n",
      "Fim do Programa\n"
     ]
    }
   ],
   "source": [
    "precos = {\"celular\": 1500, \"camera\": 1000, \"fone de ouvido\": 800, \"monitor\": 2000}\n",
    "produto = str(input('Digite o nome do produto: ')).casefold()\n",
    "\n",
    "if produto in precos:\n",
    "    print(f'O produto {produto} custa {precos[produto]}')\n",
    "else:\n",
    "    cadastro = input(f'O produto {produto} não existe. Quer cadastrar-lo?').casefold()\n",
    "    if cadastro[0] == 's':\n",
    "        valor = float(input('Qual o valor do produto? '))\n",
    "        precos[produto] = valor\n",
    "        print(f'Produto cadastrado!')\n",
    "print(precos)\n",
    "print('Fim do Programa')"
   ]
  },
  {
   "cell_type": "markdown",
   "metadata": {},
   "source": [
    "### Exercício 3\n",
    "Dada a lista de preços de produtos, uma loja resolveu fazer um reajuste nos preços dos produtos. \n",
    "calcule o novo valor dos produtos com base nas seguintes regras:\n",
    "- Preços até 1.000 vão ter um reajuste de 10% (ou seja, o novo preço será 110% do preço atual)\n",
    "- Preços até maiores que 1.000 até 2.000 vão ter reajuste de 15%\n",
    "- Preços acima de 2.000 vão ter reajuste de 20%"
   ]
  },
  {
   "cell_type": "code",
   "execution_count": 24,
   "metadata": {},
   "outputs": [
    {
     "name": "stdout",
     "output_type": "stream",
     "text": [
      "produto celular: R$1725.00\n",
      "produto camera: R$1100.00\n",
      "produto fone de ouvido: R$880.00\n",
      "produto monitor: R$3600.00\n"
     ]
    }
   ],
   "source": [
    "precos = {\"celular\": 1500, \"camera\": 1000, \"fone de ouvido\": 800, \"monitor\": 3000}\n",
    "\n",
    "for produto in precos:\n",
    "    if precos[produto] <= 1000:\n",
    "        precos[produto] *= 1.1\n",
    "    elif 2000 >= precos[produto] > 1000:\n",
    "        precos[produto] *= 1.15\n",
    "    else:\n",
    "        precos[produto] *= 1.2\n",
    "    print(f'produto {produto}: R${precos[produto]:.2f}')"
   ]
  },
  {
   "cell_type": "markdown",
   "metadata": {},
   "source": [
    "### Exercício 4\n",
    " - Edite o programa antigo para ter os 2 dicionários, o de preços originais e o de novos preços\n",
    " - Em seguida calcule o valor total de reajuste em R$ que teve entre a lista de produtos original e a lista final\n"
   ]
  },
  {
   "cell_type": "code",
   "execution_count": 27,
   "metadata": {},
   "outputs": [
    {
     "name": "stdout",
     "output_type": "stream",
     "text": [
      "O total de reajuste foi de R$1005.00\n"
     ]
    }
   ],
   "source": [
    "precos = {\"celular\": 1500, \"camera\": 1000, \"fone de ouvido\": 800, \"monitor\": 3000}\n",
    "precos_novos = {}\n",
    "\n",
    "for produto in precos:\n",
    "    if precos[produto] <= 1000:\n",
    "        novo_preco = precos[produto] * 1.1\n",
    "    elif 2000 >= precos[produto] > 1000:\n",
    "        novo_preco = precos[produto] * 1.15\n",
    "    else:\n",
    "        novo_preco = precos[produto] * 1.2\n",
    "    precos_novos[produto] = novo_preco\n",
    "total_antigo = sum(precos.values())\n",
    "total_novo = sum(precos_novos.values())\n",
    "reajuste = total_novo - total_antigo\n",
    "\n",
    "print(f'O total de reajuste foi de R${reajuste:.2f}')"
   ]
  },
  {
   "cell_type": "markdown",
   "metadata": {},
   "source": [
    "\n",
    "### Exercício 5\n",
    "- Uma empresa está analisando os resultados de vendas do 1º semestre de 2022 e 2023\n",
    "- Qual foi o % de crescimento de cada mês de 2023 em relação a 2022?\n",
    "- Depois de calcular isso, calcule o valor total de crescimento de 2023 em relação a 2022"
   ]
  },
  {
   "cell_type": "code",
   "execution_count": 9,
   "metadata": {},
   "outputs": [
    {
     "name": "stdout",
     "output_type": "stream",
     "text": [
      "No mês jan a variação foi de 13.33% \n",
      "No mês fev a variação foi de -3.23% \n",
      "No mês mar a variação foi de 25.00% \n",
      "No mês abr a variação foi de 1.81% \n",
      "No mês mai a variação foi de -1.84% \n",
      "No mês jun a variação foi de 8.82% \n",
      "O crescimento real foi de 6.89%\n"
     ]
    }
   ],
   "source": [
    "vendas_22 = {\"jan\": 15000, \"fev\": 15500, \"mar\": 14000, \"abr\": 16600, \"mai\": 16300, \"jun\": 17000}\n",
    "vendas_23 = {\"jan\": 17000, \"fev\": 15000, \"mar\": 17500, \"abr\": 16900, \"mai\": 16000, \"jun\": 18500}\n",
    "\n",
    "for mes in vendas_22:\n",
    "    valor22 = vendas_22[mes]\n",
    "    valor23 = vendas_23[mes]\n",
    "    porcentagem = valor23 / valor22 - 1\n",
    "    print(f'No mês {mes} a variação foi de {porcentagem:.2%} ')\n",
    "\n",
    "total22 = sum(vendas_22.values())\n",
    "total23 = sum(vendas_23.values())\n",
    "final = total23 / total22 - 1\n",
    "print(f'O crescimento real foi de {final:.2%}')"
   ]
  },
  {
   "cell_type": "markdown",
   "metadata": {},
   "source": [
    "### Exercício 6 - Desafio\n",
    "- No final da reunião de apresentação dos números, seu chefe perguntou:\n",
    "- E se nos meses de 2023 que a gente vendeu menos do que 2022 a gente tivesse pelo menos empatado com 2022 (ou seja, se nos meses de 2023 em que as vendas foram menores do que o mesmo mês em 2022, o valor de vendas tivesse sido igual a 2022)\n",
    "- Qual teria sido o nosso crescimento de 2023 frente a 2022?"
   ]
  },
  {
   "cell_type": "code",
   "execution_count": 10,
   "metadata": {},
   "outputs": [
    {
     "name": "stdout",
     "output_type": "stream",
     "text": [
      "No mês jan a variação foi de 13.33% \n",
      "No mês fev a variação foi de -3.23% \n",
      "No mês mar a variação foi de 25.00% \n",
      "No mês abr a variação foi de 1.81% \n",
      "No mês mai a variação foi de -1.84% \n",
      "No mês jun a variação foi de 8.82% \n",
      "O crescimento simulado foi de 7.73%\n"
     ]
    }
   ],
   "source": [
    "vendas_22 = {\"jan\": 15000, \"fev\": 15500, \"mar\": 14000, \"abr\": 16600, \"mai\": 16300, \"jun\": 17000}\n",
    "vendas_23 = {\"jan\": 17000, \"fev\": 15000, \"mar\": 17500, \"abr\": 16900, \"mai\": 16000, \"jun\": 18500}\n",
    "\n",
    "for mes in vendas_22:\n",
    "    valor22 = vendas_22[mes]\n",
    "    valor23 = vendas_23[mes]\n",
    "    porcentagem = valor23 / valor22 - 1\n",
    "    if porcentagem < 0:\n",
    "        vendas_23[mes] = valor22\n",
    "    print(f'No mês {mes} a variação foi de {porcentagem:.2%} ')\n",
    "\n",
    "total22 = sum(vendas_22.values())\n",
    "total23 = sum(vendas_23.values())\n",
    "final = total23 / total22 - 1\n",
    "print(f'O crescimento simulado foi de {final:.2%}')"
   ]
  }
 ],
 "metadata": {
  "kernelspec": {
   "display_name": "Python 3",
   "language": "python",
   "name": "python3"
  },
  "language_info": {
   "codemirror_mode": {
    "name": "ipython",
    "version": 3
   },
   "file_extension": ".py",
   "mimetype": "text/x-python",
   "name": "python",
   "nbconvert_exporter": "python",
   "pygments_lexer": "ipython3",
   "version": "3.12.0"
  }
 },
 "nbformat": 4,
 "nbformat_minor": 2
}
